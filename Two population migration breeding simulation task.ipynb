{
 "cells": [
  {
   "cell_type": "code",
   "execution_count": 1,
   "metadata": {},
   "outputs": [],
   "source": [
    "import numpy as np\n",
    "#based on numpy , use array to do this task"
   ]
  },
  {
   "cell_type": "code",
   "execution_count": 2,
   "metadata": {},
   "outputs": [],
   "source": [
    "# set parameters\n",
    "n = 100  # number of individuals in each population\n",
    "m = 10    # number of variables \n",
    "G = 10   # number of generations\n",
    "M = 0.1  # portion of individuals migrating from other population"
   ]
  },
  {
   "cell_type": "markdown",
   "metadata": {},
   "source": [
    "# First step：create the first generation"
   ]
  },
  {
   "cell_type": "code",
   "execution_count": 3,
   "metadata": {},
   "outputs": [],
   "source": [
    "# 1、set the probability of each variable being \"1\"\n",
    "pop1_probs = np.random.rand(m)\n",
    "pop2_probs = np.random.rand(m)"
   ]
  },
  {
   "cell_type": "code",
   "execution_count": 4,
   "metadata": {},
   "outputs": [],
   "source": [
    "# 2、for n individuals,create m random values for each variable,which would be used to decide the category of variable\n",
    "pop1_random = np.random.rand(n, m) \n",
    "pop2_random = np.random.rand(n, m) "
   ]
  },
  {
   "cell_type": "code",
   "execution_count": 5,
   "metadata": {},
   "outputs": [
    {
     "data": {
      "text/plain": [
       "array([[0, 1, 1, 1, 1, 0, 0, 0, 1, 1],\n",
       "       [0, 0, 0, 1, 1, 0, 0, 0, 1, 0],\n",
       "       [0, 0, 1, 0, 0, 0, 1, 0, 1, 0],\n",
       "       [0, 0, 1, 0, 1, 0, 0, 0, 1, 1],\n",
       "       [0, 1, 0, 1, 1, 0, 1, 0, 1, 0]], dtype=int64)"
      ]
     },
     "execution_count": 5,
     "metadata": {},
     "output_type": "execute_result"
    }
   ],
   "source": [
    "# 3-1create a new array to save the first generation of pop1\n",
    "pop1_g0 = np.empty((n, m)) \n",
    "\n",
    "#compare each variable's random value with probability,if larger set to category \"1\" ,else set to cagetory \"\"0\n",
    "for i in range(n):\n",
    "    for j in range(m):\n",
    "        if pop1_random[i,j] > pop1_probs[j]:\n",
    "            pop1_g0[i,j]= 1\n",
    "        else:\n",
    "            pop1_g0[i,j]= 0\n",
    "pop1_g0=pop1_g0.astype(np.int64) \n",
    "\n",
    "#show top5 individuals\n",
    "pop1_g0[:5,:]"
   ]
  },
  {
   "cell_type": "code",
   "execution_count": 6,
   "metadata": {},
   "outputs": [
    {
     "data": {
      "text/plain": [
       "array([[0, 1, 1, 1, 1, 0, 0, 0, 1, 1],\n",
       "       [0, 0, 0, 1, 1, 0, 0, 0, 1, 0],\n",
       "       [0, 0, 1, 0, 0, 0, 1, 0, 1, 0],\n",
       "       [0, 0, 1, 0, 1, 0, 0, 0, 1, 1],\n",
       "       [0, 1, 0, 1, 1, 0, 1, 0, 1, 0]], dtype=int64)"
      ]
     },
     "execution_count": 6,
     "metadata": {},
     "output_type": "execute_result"
    }
   ],
   "source": [
    "# 3-2create a new array to save the first generation of pop2\n",
    "pop2_g0 = np.empty((n, m)) \n",
    "\n",
    "#compare each variable's random value with probability,if larger set to category \"1\" ,else set to cagetory \"\"0\n",
    "for i in range(n):\n",
    "    for j in range(m):\n",
    "        if pop2_random[i,j] > pop2_probs[j]:\n",
    "            pop2_g0[i,j]= 1\n",
    "        else:\n",
    "            pop2_g0[i,j]= 0\n",
    "pop2_g0=pop1_g0.astype(np.int64)  \n",
    "\n",
    "#show top5 individuals\n",
    "pop2_g0[:5,:]"
   ]
  },
  {
   "cell_type": "code",
   "execution_count": 7,
   "metadata": {},
   "outputs": [],
   "source": [
    "# 4、generate random sex value for pop1 and pop2\n",
    "\n",
    "#define the value of sex\n",
    "sex = [\"M\", \"F\"]  \n",
    "  \n",
    "# create the random sex value for each individuals in both pop1 and pop2 \n",
    "pop1_g0_sex = np.random.choice(sex, size=n)  \n",
    "pop2_g0_sex = np.random.choice(sex, size=n)  \n"
   ]
  },
  {
   "cell_type": "code",
   "execution_count": 8,
   "metadata": {},
   "outputs": [
    {
     "data": {
      "text/plain": [
       "array([['0', '1', '1', '1', '1', '0', '0', '0', '1', '1', 'M'],\n",
       "       ['0', '0', '0', '1', '1', '0', '0', '0', '1', '0', 'F'],\n",
       "       ['0', '0', '1', '0', '0', '0', '1', '0', '1', '0', 'F'],\n",
       "       ['0', '0', '1', '0', '1', '0', '0', '0', '1', '1', 'M'],\n",
       "       ['0', '1', '0', '1', '1', '0', '1', '0', '1', '0', 'F']],\n",
       "      dtype='<U21')"
      ]
     },
     "execution_count": 8,
     "metadata": {},
     "output_type": "execute_result"
    }
   ],
   "source": [
    "# 5-1 add sex variable for pop1 individuals\n",
    "pop1_g0_sex=pop1_g0_sex.reshape(n,1)\n",
    "\n",
    "#add sex value to each individuals\n",
    "pop1_g0withsex=np.concatenate((pop1_g0, pop1_g0_sex), axis=1) \n",
    "\n",
    "#show top5 individuals\n",
    "pop1_g0withsex[:5,:]"
   ]
  },
  {
   "cell_type": "code",
   "execution_count": 9,
   "metadata": {},
   "outputs": [
    {
     "data": {
      "text/plain": [
       "array([['0', '1', '1', '1', '1', '0', '0', '0', '1', '1', 'F'],\n",
       "       ['0', '0', '0', '1', '1', '0', '0', '0', '1', '0', 'M'],\n",
       "       ['0', '0', '1', '0', '0', '0', '1', '0', '1', '0', 'M'],\n",
       "       ['0', '0', '1', '0', '1', '0', '0', '0', '1', '1', 'M'],\n",
       "       ['0', '1', '0', '1', '1', '0', '1', '0', '1', '0', 'M']],\n",
       "      dtype='<U21')"
      ]
     },
     "execution_count": 9,
     "metadata": {},
     "output_type": "execute_result"
    }
   ],
   "source": [
    "# 5-2 add sex variable for pop2 individuals\n",
    "pop2_g0_sex=pop2_g0_sex.reshape(n,1)\n",
    "\n",
    "#add sex value to each individuals\n",
    "pop2_g0withsex=np.concatenate((pop2_g0, pop2_g0_sex), axis=1) \n",
    "\n",
    "#show top5 individuals\n",
    "pop2_g0withsex[:5,:]"
   ]
  },
  {
   "cell_type": "code",
   "execution_count": 10,
   "metadata": {},
   "outputs": [],
   "source": [
    "# 6、divide into male group and female group in 2 populations\n",
    "# extract male sample , make a new group in pop1\n",
    "pop1_male_index = pop1_g0withsex[:, m] == 'M'\n",
    "pop1_g0_male = pop1_g0withsex[pop1_male_index]\n",
    "\n",
    "# extract female sample , make a new group in pop1\n",
    "pop1_female_index = pop1_g0withsex[:, m] == 'F'\n",
    "pop1_g0_female = pop1_g0withsex[pop1_female_index]\n",
    "\n",
    "\n",
    "# extract male sample , make a new group in pop2\n",
    "pop2_male_index = pop2_g0withsex[:, m] == 'M'\n",
    "pop2_g0_male = pop2_g0withsex[pop2_male_index]\n",
    "\n",
    "# extract female sample , make a new group in pop2\n",
    "pop2_female_index = pop2_g0withsex[:, m] == 'F'\n",
    "pop2_g0_female = pop2_g0withsex[pop2_female_index]"
   ]
  },
  {
   "cell_type": "markdown",
   "metadata": {},
   "source": [
    "# Second step:extract parents sample for pop 1 based on migration"
   ]
  },
  {
   "cell_type": "code",
   "execution_count": 11,
   "metadata": {
    "scrolled": false
   },
   "outputs": [
    {
     "name": "stdout",
     "output_type": "stream",
     "text": [
      "the number of father in pop1 is: 50\n",
      "the number of father in pop2 is: 54\n"
     ]
    }
   ],
   "source": [
    "pop1father_number=pop1_g0_male.shape[0]\n",
    "print(\"the number of father in pop1 is:\" ,pop1father_number)\n",
    "pop2father_number=pop2_g0_male.shape[0]\n",
    "print(\"the number of father in pop2 is:\" ,pop2father_number)"
   ]
  },
  {
   "cell_type": "code",
   "execution_count": 12,
   "metadata": {},
   "outputs": [
    {
     "data": {
      "text/plain": [
       "array([['0', '1', '0', '1', '0', '0', '1', '0', '0', '0', 'M'],\n",
       "       ['0', '1', '0', '0', '1', '0', '0', '0', '1', '1', 'M'],\n",
       "       ['0', '1', '0', '1', '1', '0', '0', '1', '1', '0', 'M'],\n",
       "       ['0', '1', '0', '1', '1', '0', '0', '1', '0', '0', 'M'],\n",
       "       ['1', '1', '0', '0', '0', '0', '1', '0', '1', '0', 'M']],\n",
       "      dtype='<U21')"
      ]
     },
     "execution_count": 12,
     "metadata": {},
     "output_type": "execute_result"
    }
   ],
   "source": [
    "# 1、select fathers from pop1\n",
    "\n",
    "# set numbers of father selected form pop1 \n",
    "index = pop1father_number \n",
    "chosen_number1=int((1-M)*n)\n",
    "  \n",
    "# select (1-M)*n fathers from pop1\n",
    "chosen_index= np.random.choice(index,chosen_number1, replace=True)  \n",
    "father_from_pop1 = pop1_g0_male[chosen_index]  \n",
    "\n",
    "# show top5 fathers selected from pop1\n",
    "father_from_pop1[:5,:]"
   ]
  },
  {
   "cell_type": "code",
   "execution_count": 13,
   "metadata": {},
   "outputs": [
    {
     "data": {
      "text/plain": [
       "array([['0', '0', '0', '0', '1', '0', '0', '0', '1', '1', 'M'],\n",
       "       ['1', '0', '0', '1', '1', '0', '0', '0', '1', '0', 'M'],\n",
       "       ['0', '1', '0', '0', '1', '0', '1', '0', '1', '1', 'M'],\n",
       "       ['0', '1', '0', '1', '1', '0', '1', '0', '1', '0', 'M'],\n",
       "       ['1', '0', '1', '0', '1', '0', '0', '0', '1', '1', 'M']],\n",
       "      dtype='<U21')"
      ]
     },
     "execution_count": 13,
     "metadata": {},
     "output_type": "execute_result"
    }
   ],
   "source": [
    "# 2、 select fathers from pop2\n",
    "\n",
    "# set numbers of father selected form pop1 \n",
    "index = pop2father_number \n",
    "chosen_number2=n-chosen_number1\n",
    "  \n",
    "# select (1-M)*n fathers from pop1\n",
    "chosen_index= np.random.choice(index,chosen_number2, replace=True)  \n",
    "father_from_pop2 = pop2_g0_male[chosen_index]  \n",
    "\n",
    "# show top5 fathers selected from pop1\n",
    "father_from_pop2[:5,:]"
   ]
  },
  {
   "cell_type": "code",
   "execution_count": 14,
   "metadata": {},
   "outputs": [
    {
     "data": {
      "text/plain": [
       "array([['0', '1', '0', '1', '0', '0', '1', '0', '0', '0', 'M'],\n",
       "       ['0', '1', '0', '0', '1', '0', '0', '0', '1', '1', 'M'],\n",
       "       ['0', '1', '0', '1', '1', '0', '0', '1', '1', '0', 'M'],\n",
       "       ['0', '1', '0', '1', '1', '0', '0', '1', '0', '0', 'M'],\n",
       "       ['1', '1', '0', '0', '0', '0', '1', '0', '1', '0', 'M']],\n",
       "      dtype='<U21')"
      ]
     },
     "execution_count": 14,
     "metadata": {},
     "output_type": "execute_result"
    }
   ],
   "source": [
    "# 3、get fathers who will reproduce offspring\n",
    "pop1_fathers_with_migration = np.concatenate((father_from_pop1, father_from_pop2), axis=0) \n",
    "\n",
    "# show top5 fathers who will reproduce offspring\n",
    "pop1_fathers_with_migration[:5,:]"
   ]
  },
  {
   "cell_type": "code",
   "execution_count": 15,
   "metadata": {},
   "outputs": [
    {
     "name": "stdout",
     "output_type": "stream",
     "text": [
      "the number of mother in pop1 is: 50\n",
      "the number of mother in pop2 is: 46\n"
     ]
    }
   ],
   "source": [
    "pop1mother_number=pop1_g0_female.shape[0]\n",
    "print(\"the number of mother in pop1 is:\" ,pop1mother_number)\n",
    "pop2mother_number=pop2_g0_female.shape[0]\n",
    "print(\"the number of mother in pop2 is:\" ,pop2mother_number)"
   ]
  },
  {
   "cell_type": "code",
   "execution_count": 16,
   "metadata": {},
   "outputs": [
    {
     "data": {
      "text/plain": [
       "array([['0', '1', '0', '1', '0', '0', '0', '0', '1', '1', 'F'],\n",
       "       ['1', '1', '0', '1', '1', '0', '1', '0', '1', '1', 'F'],\n",
       "       ['0', '1', '0', '1', '0', '0', '0', '0', '1', '1', 'F'],\n",
       "       ['1', '1', '0', '1', '0', '0', '0', '0', '1', '1', 'F'],\n",
       "       ['0', '1', '1', '1', '1', '0', '1', '0', '1', '1', 'F']],\n",
       "      dtype='<U21')"
      ]
     },
     "execution_count": 16,
     "metadata": {},
     "output_type": "execute_result"
    }
   ],
   "source": [
    "# 4、select mothers from pop1\n",
    "\n",
    "# set numbers of mother selected form pop1 \n",
    "index = pop1mother_number \n",
    "chosen_number1=int((1-M)*n)\n",
    "  \n",
    "# select (1-M)*n mothers from pop1\n",
    "chosen_index= np.random.choice(index,chosen_number1, replace=True)  \n",
    "mother_from_pop1 = pop1_g0_female[chosen_index]  \n",
    "\n",
    "# show top5 mothers selected from pop1\n",
    "mother_from_pop1[:5,:]"
   ]
  },
  {
   "cell_type": "code",
   "execution_count": 17,
   "metadata": {},
   "outputs": [
    {
     "data": {
      "text/plain": [
       "array([['0', '1', '0', '0', '1', '0', '0', '0', '1', '0', 'F'],\n",
       "       ['0', '1', '0', '1', '1', '0', '0', '0', '1', '1', 'F'],\n",
       "       ['0', '1', '0', '0', '1', '0', '1', '1', '1', '1', 'F'],\n",
       "       ['0', '1', '0', '1', '1', '0', '0', '0', '1', '1', 'F'],\n",
       "       ['0', '1', '0', '1', '1', '0', '1', '0', '1', '1', 'F']],\n",
       "      dtype='<U21')"
      ]
     },
     "execution_count": 17,
     "metadata": {},
     "output_type": "execute_result"
    }
   ],
   "source": [
    "# 5、 select mothers from pop2\n",
    "\n",
    "# set numbers of mother selected form pop1 \n",
    "index = pop2mother_number \n",
    "chosen_number2=n-chosen_number1\n",
    "  \n",
    "# select (1-M)*n mothers from pop1\n",
    "chosen_index= np.random.choice(index,chosen_number2, replace=True)  \n",
    "mother_from_pop2 = pop2_g0_female[chosen_index]  \n",
    "\n",
    "# show top5 mothers selected from pop1\n",
    "mother_from_pop2[:5,:]"
   ]
  },
  {
   "cell_type": "code",
   "execution_count": 18,
   "metadata": {},
   "outputs": [
    {
     "data": {
      "text/plain": [
       "array([['0', '1', '0', '1', '0', '0', '0', '0', '1', '1', 'F'],\n",
       "       ['1', '1', '0', '1', '1', '0', '1', '0', '1', '1', 'F'],\n",
       "       ['0', '1', '0', '1', '0', '0', '0', '0', '1', '1', 'F'],\n",
       "       ['1', '1', '0', '1', '0', '0', '0', '0', '1', '1', 'F'],\n",
       "       ['0', '1', '1', '1', '1', '0', '1', '0', '1', '1', 'F']],\n",
       "      dtype='<U21')"
      ]
     },
     "execution_count": 18,
     "metadata": {},
     "output_type": "execute_result"
    }
   ],
   "source": [
    "# 6、get mothers who will reproduce offspring\n",
    "pop1_mothers_with_migration = np.concatenate((mother_from_pop1, mother_from_pop2), axis=0) \n",
    "\n",
    "# show top5 mothers who will reproduce offspring\n",
    "pop1_mothers_with_migration[:5,:]"
   ]
  },
  {
   "cell_type": "markdown",
   "metadata": {},
   "source": [
    "# Third step：reproduce offspring in pop 1"
   ]
  },
  {
   "cell_type": "code",
   "execution_count": 19,
   "metadata": {},
   "outputs": [],
   "source": [
    "#  reproduce pop1's child \n",
    "pop1_child = np.zeros_like(pop1_fathers_with_migration)  "
   ]
  },
  {
   "cell_type": "code",
   "execution_count": 20,
   "metadata": {},
   "outputs": [
    {
     "data": {
      "text/plain": [
       "array([['0', '1', '0', ..., '0', '0', 'F'],\n",
       "       ['1', '1', '0', ..., '1', '1', 'F'],\n",
       "       ['0', '1', '0', ..., '1', '0', 'F'],\n",
       "       ...,\n",
       "       ['0', '1', '0', ..., '1', '1', 'F'],\n",
       "       ['0', '1', '0', ..., '1', '0', 'F'],\n",
       "       ['0', '1', '0', ..., '1', '0', 'M']], dtype='<U21')"
      ]
     },
     "execution_count": 20,
     "metadata": {},
     "output_type": "execute_result"
    }
   ],
   "source": [
    "# for every child's every variable, choose a value from their own father or mother randomly\n",
    "for i in range(n):  \n",
    "    for j in range(m+1):   \n",
    "        choice_index = np.random.choice([0, 1])  \n",
    "        if choice_index == 0:  \n",
    "            pop1_child[i, j] = pop1_fathers_with_migration[i, j]  \n",
    "        else:  \n",
    "            pop1_child[i, j] = pop1_mothers_with_migration[i, j]  \n",
    "pop1_child"
   ]
  },
  {
   "cell_type": "markdown",
   "metadata": {},
   "source": [
    "# Fourth step:extract parents sample for pop 2 based on migration"
   ]
  },
  {
   "cell_type": "code",
   "execution_count": 21,
   "metadata": {
    "scrolled": true
   },
   "outputs": [
    {
     "data": {
      "text/plain": [
       "array([['1', '0', '0', '0', '0', '0', '1', '0', '1', '1', 'M'],\n",
       "       ['0', '1', '0', '1', '0', '0', '1', '0', '0', '0', 'M'],\n",
       "       ['0', '0', '0', '1', '1', '0', '0', '0', '1', '1', 'M'],\n",
       "       ['1', '0', '0', '0', '0', '0', '1', '0', '1', '1', 'M'],\n",
       "       ['0', '1', '0', '1', '1', '0', '0', '1', '1', '0', 'M']],\n",
       "      dtype='<U21')"
      ]
     },
     "execution_count": 21,
     "metadata": {},
     "output_type": "execute_result"
    }
   ],
   "source": [
    "# 1、select fathers from pop1\n",
    "\n",
    "# set numbers of father selected form pop1 \n",
    "index = pop1father_number \n",
    "chosen_number1=int(M*n)\n",
    "  \n",
    "# select (1-M)*n fathers from pop1\n",
    "chosen_index= np.random.choice(index,chosen_number1, replace=True)  \n",
    "father_from_pop1 = pop1_g0_male[chosen_index]  \n",
    "\n",
    "# show top5 fathers selected from pop1\n",
    "father_from_pop1[:5,:]"
   ]
  },
  {
   "cell_type": "code",
   "execution_count": 22,
   "metadata": {},
   "outputs": [
    {
     "data": {
      "text/plain": [
       "array([['0', '1', '0', '1', '0', '0', '1', '0', '1', '1', 'M'],\n",
       "       ['0', '1', '0', '0', '0', '0', '1', '1', '0', '0', 'M'],\n",
       "       ['0', '1', '0', '1', '1', '0', '1', '0', '1', '0', 'M'],\n",
       "       ['0', '1', '0', '1', '0', '0', '1', '0', '1', '1', 'M'],\n",
       "       ['0', '0', '1', '0', '0', '0', '1', '0', '1', '0', 'M']],\n",
       "      dtype='<U21')"
      ]
     },
     "execution_count": 22,
     "metadata": {},
     "output_type": "execute_result"
    }
   ],
   "source": [
    "# 2、 select fathers from pop2\n",
    "\n",
    "# set numbers of father selected form pop1 \n",
    "index = pop2father_number \n",
    "chosen_number2=n-chosen_number1\n",
    "  \n",
    "# select (1-M)*n fathers from pop1\n",
    "chosen_index= np.random.choice(index,chosen_number2, replace=True)  \n",
    "father_from_pop2 = pop2_g0_male[chosen_index]  \n",
    "\n",
    "# show top5 fathers selected from pop1\n",
    "father_from_pop2[:5,:]"
   ]
  },
  {
   "cell_type": "code",
   "execution_count": 23,
   "metadata": {},
   "outputs": [
    {
     "data": {
      "text/plain": [
       "array([['1', '0', '0', '0', '0', '0', '1', '0', '1', '1', 'M'],\n",
       "       ['0', '1', '0', '1', '0', '0', '1', '0', '0', '0', 'M'],\n",
       "       ['0', '0', '0', '1', '1', '0', '0', '0', '1', '1', 'M'],\n",
       "       ['1', '0', '0', '0', '0', '0', '1', '0', '1', '1', 'M'],\n",
       "       ['0', '1', '0', '1', '1', '0', '0', '1', '1', '0', 'M']],\n",
       "      dtype='<U21')"
      ]
     },
     "execution_count": 23,
     "metadata": {},
     "output_type": "execute_result"
    }
   ],
   "source": [
    "# 3、get fathers who will reproduce offspring\n",
    "pop2_fathers_with_migration = np.concatenate((father_from_pop1, father_from_pop2), axis=0) \n",
    "\n",
    "# show top5 fathers who will reproduce offspring\n",
    "pop2_fathers_with_migration[:5,:]"
   ]
  },
  {
   "cell_type": "code",
   "execution_count": 24,
   "metadata": {},
   "outputs": [
    {
     "data": {
      "text/plain": [
       "array([['0', '0', '0', '1', '1', '0', '0', '0', '1', '0', 'F'],\n",
       "       ['0', '1', '0', '0', '1', '0', '0', '0', '1', '0', 'F'],\n",
       "       ['0', '1', '0', '1', '1', '0', '0', '0', '1', '0', 'F'],\n",
       "       ['0', '1', '0', '0', '1', '0', '1', '0', '1', '1', 'F'],\n",
       "       ['0', '1', '1', '1', '1', '0', '0', '0', '1', '1', 'F']],\n",
       "      dtype='<U21')"
      ]
     },
     "execution_count": 24,
     "metadata": {},
     "output_type": "execute_result"
    }
   ],
   "source": [
    "# 4、select mothers from pop1\n",
    "\n",
    "# set numbers of mother selected form pop1 \n",
    "index = pop1mother_number \n",
    "chosen_number1=int(M*n)\n",
    "  \n",
    "# select (1-M)*n mothers from pop1\n",
    "chosen_index= np.random.choice(index,chosen_number1, replace=True)  \n",
    "mother_from_pop1 = pop1_g0_female[chosen_index]  \n",
    "\n",
    "# show top5 mothers selected from pop1\n",
    "mother_from_pop1[:5,:]"
   ]
  },
  {
   "cell_type": "code",
   "execution_count": 25,
   "metadata": {},
   "outputs": [
    {
     "data": {
      "text/plain": [
       "array([['0', '1', '0', '0', '1', '0', '0', '0', '1', '0', 'F'],\n",
       "       ['0', '1', '1', '1', '1', '0', '1', '0', '1', '1', 'F'],\n",
       "       ['0', '1', '0', '1', '1', '0', '0', '0', '1', '1', 'F'],\n",
       "       ['0', '1', '0', '0', '0', '1', '0', '0', '1', '1', 'F'],\n",
       "       ['0', '1', '0', '1', '1', '0', '0', '1', '1', '0', 'F']],\n",
       "      dtype='<U21')"
      ]
     },
     "execution_count": 25,
     "metadata": {},
     "output_type": "execute_result"
    }
   ],
   "source": [
    "# 5、 select mothers from pop2\n",
    "\n",
    "# set numbers of mother selected form pop1 \n",
    "index = pop2mother_number \n",
    "chosen_number2=n-chosen_number1\n",
    "  \n",
    "# select (1-M)*n mothers from pop1\n",
    "chosen_index= np.random.choice(index,chosen_number2, replace=True)  \n",
    "mother_from_pop2 = pop2_g0_female[chosen_index]  \n",
    "\n",
    "# show top5 mothers selected from pop1\n",
    "mother_from_pop2[:5,:]"
   ]
  },
  {
   "cell_type": "code",
   "execution_count": 26,
   "metadata": {
    "scrolled": true
   },
   "outputs": [
    {
     "data": {
      "text/plain": [
       "array([['0', '0', '0', '1', '1', '0', '0', '0', '1', '0', 'F'],\n",
       "       ['0', '1', '0', '0', '1', '0', '0', '0', '1', '0', 'F'],\n",
       "       ['0', '1', '0', '1', '1', '0', '0', '0', '1', '0', 'F'],\n",
       "       ['0', '1', '0', '0', '1', '0', '1', '0', '1', '1', 'F'],\n",
       "       ['0', '1', '1', '1', '1', '0', '0', '0', '1', '1', 'F']],\n",
       "      dtype='<U21')"
      ]
     },
     "execution_count": 26,
     "metadata": {},
     "output_type": "execute_result"
    }
   ],
   "source": [
    "# 6、get mothers who will reproduce offspring\n",
    "pop2_mothers_with_migration = np.concatenate((mother_from_pop1, mother_from_pop2), axis=0) \n",
    "\n",
    "# show top5 mothers who will reproduce offspring\n",
    "pop2_mothers_with_migration[:5,:]"
   ]
  },
  {
   "cell_type": "markdown",
   "metadata": {},
   "source": [
    "# Fifth step：reproduce offspring in pop 2"
   ]
  },
  {
   "cell_type": "code",
   "execution_count": 27,
   "metadata": {},
   "outputs": [],
   "source": [
    "#  1、reproduce pop2's child \n",
    "pop2_child = np.zeros_like(pop2_fathers_with_migration)  "
   ]
  },
  {
   "cell_type": "code",
   "execution_count": 28,
   "metadata": {},
   "outputs": [
    {
     "data": {
      "text/plain": [
       "array([['1', '0', '0', ..., '1', '1', 'M'],\n",
       "       ['0', '1', '0', ..., '0', '0', 'F'],\n",
       "       ['0', '0', '0', ..., '1', '0', 'M'],\n",
       "       ...,\n",
       "       ['1', '0', '1', ..., '1', '1', 'M'],\n",
       "       ['0', '1', '1', ..., '1', '0', 'M'],\n",
       "       ['0', '1', '0', ..., '1', '0', 'F']], dtype='<U21')"
      ]
     },
     "execution_count": 28,
     "metadata": {},
     "output_type": "execute_result"
    }
   ],
   "source": [
    "# for every child's every variable, choose a value from their own father or mother randomly\n",
    "for i in range(n):  \n",
    "    for j in range(m+1):   \n",
    "        choice_index = np.random.choice([0, 1])  \n",
    "        if choice_index == 0:  \n",
    "            pop2_child[i, j] = pop2_fathers_with_migration[i, j]  \n",
    "        else:  \n",
    "            pop2_child[i, j] = pop2_mothers_with_migration[i, j]  \n",
    "pop2_child"
   ]
  },
  {
   "cell_type": "markdown",
   "metadata": {},
   "source": [
    "# ------------------------------------------------------------------------------------------------------------"
   ]
  },
  {
   "cell_type": "markdown",
   "metadata": {},
   "source": [
    "# Now, define some functions to simplify the code"
   ]
  },
  {
   "cell_type": "markdown",
   "metadata": {},
   "source": [
    "# ------------------------------------------------------------------------------------------------------------"
   ]
  },
  {
   "cell_type": "markdown",
   "metadata": {},
   "source": [
    "# funtion 1: simulate the first generation with random sex variable"
   ]
  },
  {
   "cell_type": "code",
   "execution_count": 29,
   "metadata": {},
   "outputs": [],
   "source": [
    "def first_generation_with_sex_variable():\n",
    "    # 1、set the probability of each variable being \"1\"\n",
    "    pop1_probs = np.random.rand(m)\n",
    "    pop2_probs = np.random.rand(m)\n",
    "\n",
    "    # 2、for n individuals,create m random values for each variable,which would be used to decide the category of variable\n",
    "    pop1_random = np.random.rand(n, m) \n",
    "    pop2_random = np.random.rand(n, m) \n",
    "\n",
    "    # 3-1create a new array to save the first generation of pop1\n",
    "    pop1_g0 = np.empty((n, m)) \n",
    "    #compare each variable's random value with probability,if larger set to category \"1\" ,else set to cagetory \"\"0\n",
    "    for i in range(n):\n",
    "        for j in range(m):\n",
    "            if pop1_random[i,j] > pop1_probs[j]:\n",
    "                pop1_g0[i,j]= 1\n",
    "            else:\n",
    "                pop1_g0[i,j]= 0\n",
    "    pop1_g0=pop1_g0.astype(np.int64) \n",
    "\n",
    "    # 3-2create a new array to save the first generation of pop2\n",
    "    pop2_g0 = np.empty((n, m)) \n",
    "    #compare each variable's random value with probability,if larger set to category \"1\" ,else set to cagetory \"\"0\n",
    "    for i in range(n):\n",
    "        for j in range(m):\n",
    "            if pop2_random[i,j] > pop2_probs[j]:\n",
    "                pop2_g0[i,j]= 1\n",
    "            else:\n",
    "                pop2_g0[i,j]= 0\n",
    "    pop2_g0=pop1_g0.astype(np.int64)  \n",
    "\n",
    "    # 4、generate random sex value for pop1 and pop2\n",
    "    #define the value of sex\n",
    "    sex = [\"M\", \"F\"]  \n",
    "    # create the random sex value for each individuals in both pop1 and pop2 \n",
    "    pop1_g0_sex = np.random.choice(sex, size=n)  \n",
    "    pop2_g0_sex = np.random.choice(sex, size=n)  \n",
    "\n",
    "    # 5-1 add sex variable for pop1 individuals\n",
    "    pop1_g0_sex=pop1_g0_sex.reshape(n,1)\n",
    "    #add sex value to each individuals\n",
    "    pop1_g0withsex=np.concatenate((pop1_g0, pop1_g0_sex), axis=1) \n",
    "\n",
    "    # 5-2 add sex variable for pop2 individuals\n",
    "    pop2_g0_sex=pop2_g0_sex.reshape(n,1)\n",
    "    #add sex value to each individuals\n",
    "    pop2_g0withsex=np.concatenate((pop2_g0, pop2_g0_sex), axis=1)\n",
    "    \n",
    "    return pop1_g0withsex,pop2_g0withsex\n",
    "    \n"
   ]
  },
  {
   "cell_type": "markdown",
   "metadata": {},
   "source": [
    "# function 2: divide into male group and female group in 2 populations"
   ]
  },
  {
   "cell_type": "code",
   "execution_count": 31,
   "metadata": {},
   "outputs": [],
   "source": [
    "def divide_parents_into_4groups(pop1_g0withsex, pop2_g0withsex):  \n",
    "    # extract male sample , make a new group in pop1\n",
    "    pop1_male_index = pop1_g0withsex[:, m] == 'M'\n",
    "    pop1_g0_male = pop1_g0withsex[pop1_male_index]\n",
    "\n",
    "    # extract female sample , make a new group in pop1\n",
    "    pop1_female_index = pop1_g0withsex[:, m] == 'F'\n",
    "    pop1_g0_female = pop1_g0withsex[pop1_female_index]\n",
    "\n",
    "\n",
    "    # extract male sample , make a new group in pop2\n",
    "    pop2_male_index = pop2_g0withsex[:, m] == 'M'\n",
    "    pop2_g0_male = pop2_g0withsex[pop2_male_index]\n",
    "\n",
    "    # extract female sample , make a new group in pop2\n",
    "    pop2_female_index = pop2_g0withsex[:, m] == 'F'\n",
    "    pop2_g0_female = pop2_g0withsex[pop2_female_index]\n",
    "    \n",
    "    return pop1_g0_male,pop1_g0_female,pop2_g0_male,pop2_g0_female"
   ]
  },
  {
   "cell_type": "markdown",
   "metadata": {},
   "source": [
    "# function 3： simulate the migration & make new parents couples"
   ]
  },
  {
   "cell_type": "code",
   "execution_count": 32,
   "metadata": {},
   "outputs": [],
   "source": [
    "# input：original 4 groups individuals in 2 populations,which is divided by sex\n",
    "# function: simulate the migration between two populations and crate new parents couples for next generations\n",
    "# output: 4 groups parents in 2 populations after migration"
   ]
  },
  {
   "cell_type": "code",
   "execution_count": 33,
   "metadata": {},
   "outputs": [],
   "source": [
    "def migration_and_create_parents_combination(pop1_g0_male,pop1_g0_female,pop2_g0_male,pop2_g0_female):  \n",
    "    pop1father_number=pop1_g0_male.shape[0]\n",
    "    pop2father_number=pop2_g0_male.shape[0]\n",
    "    pop1mother_number=pop1_g0_female.shape[0]\n",
    "    pop2mother_number=pop2_g0_female.shape[0]\n",
    "    \n",
    "    ####  pop1   ####\n",
    "    \n",
    "    # 1、select fathers from pop1\n",
    "    # set numbers of father selected form pop1 \n",
    "    index = pop1father_number \n",
    "    chosen_number1=int((1-M)*n)\n",
    "    # select (1-M)*n fathers from pop1\n",
    "    chosen_index= np.random.choice(index,chosen_number1, replace=True)  \n",
    "    father_from_pop1 = pop1_g0_male[chosen_index]  \n",
    "\n",
    "    # 2、 select fathers from pop2\n",
    "    # set numbers of father selected form pop1 \n",
    "    index = pop2father_number \n",
    "    chosen_number2=n-chosen_number1\n",
    "    # select (1-M)*n fathers from pop1\n",
    "    chosen_index= np.random.choice(index,chosen_number2, replace=True)  \n",
    "    father_from_pop2 = pop2_g0_male[chosen_index]  \n",
    "    \n",
    "    # 3、get fathers who will reproduce offspring\n",
    "    pop1_fathers_with_migration = np.concatenate((father_from_pop1, father_from_pop2), axis=0) \n",
    "    \n",
    "    # 4、select mothers from pop1\n",
    "    # set numbers of mother selected form pop1 \n",
    "    index = pop1mother_number \n",
    "    chosen_number1=int((1-M)*n)\n",
    "    # select (1-M)*n mothers from pop1\n",
    "    chosen_index= np.random.choice(index,chosen_number1, replace=True)  \n",
    "    mother_from_pop1 = pop1_g0_female[chosen_index] \n",
    "    \n",
    "    # 5、 select mothers from pop2\n",
    "    # set numbers of mother selected form pop1 \n",
    "    index = pop2mother_number \n",
    "    chosen_number2=n-chosen_number1\n",
    "    # select (1-M)*n mothers from pop1\n",
    "    chosen_index= np.random.choice(index,chosen_number2, replace=True)  \n",
    "    mother_from_pop2 = pop2_g0_female[chosen_index]  \n",
    "    \n",
    "    # 6、get mothers who will reproduce offspring\n",
    "    pop1_mothers_with_migration = np.concatenate((mother_from_pop1, mother_from_pop2), axis=0) \n",
    "    \n",
    "    ####  pop2   ####\n",
    "    \n",
    "    # 1、select fathers from pop1\n",
    "    # set numbers of father selected form pop1 \n",
    "    index = pop1father_number \n",
    "    chosen_number1=int(M*n)\n",
    "    # select (1-M)*n fathers from pop1\n",
    "    chosen_index= np.random.choice(index,chosen_number1, replace=True)  \n",
    "    father_from_pop1 = pop1_g0_male[chosen_index]  \n",
    "\n",
    "\n",
    "    # 2、 select fathers from pop2\n",
    "    # set numbers of father selected form pop1 \n",
    "    index = pop2father_number \n",
    "    chosen_number2=n-chosen_number1\n",
    "    # select (1-M)*n fathers from pop1\n",
    "    chosen_index= np.random.choice(index,chosen_number2, replace=True)  \n",
    "    father_from_pop2 = pop2_g0_male[chosen_index]  \n",
    "\n",
    "    # 3、get fathers who will reproduce offspring\n",
    "    pop2_fathers_with_migration = np.concatenate((father_from_pop1, father_from_pop2), axis=0) \n",
    "\n",
    "\n",
    "    # 4、select mothers from pop1\n",
    "    # set numbers of mother selected form pop1 \n",
    "    index = pop1mother_number \n",
    "    chosen_number1=int(M*n)\n",
    "    # select (1-M)*n mothers from pop1\n",
    "    chosen_index= np.random.choice(index,chosen_number1, replace=True)  \n",
    "    mother_from_pop1 = pop1_g0_female[chosen_index]  \n",
    "\n",
    "\n",
    "    # 5、 select mothers from pop2\n",
    "    # set numbers of mother selected form pop1 \n",
    "    index = pop2mother_number \n",
    "    chosen_number2=n-chosen_number1\n",
    "    # select (1-M)*n mothers from pop1\n",
    "    chosen_index= np.random.choice(index,chosen_number2, replace=True)  \n",
    "    mother_from_pop2 = pop2_g0_female[chosen_index]  \n",
    "\n",
    "    # 6、get mothers who will reproduce offspring\n",
    "    pop2_mothers_with_migration = np.concatenate((mother_from_pop1, mother_from_pop2), axis=0) \n",
    "\n",
    "    return pop1_fathers_with_migration,pop1_mothers_with_migration,pop2_fathers_with_migration,pop2_mothers_with_migration\n",
    "\n",
    "pop1_fathers_with_migration,pop1_mothers_with_migration,pop2_fathers_with_migration,pop2_mothers_with_migration=migration_and_create_parents_combination(pop1_g0_male,pop1_g0_female,pop2_g0_male,pop2_g0_female)\n",
    "    \n"
   ]
  },
  {
   "cell_type": "markdown",
   "metadata": {},
   "source": [
    "# function 4: reproduce offspring"
   ]
  },
  {
   "cell_type": "code",
   "execution_count": 34,
   "metadata": {},
   "outputs": [],
   "source": [
    "# input：fathers and mothers after migration in pop1 and pop2\n",
    "# function: simulate the process of reproducing offspring\n",
    "# output: children in pop1 and children in pop2 "
   ]
  },
  {
   "cell_type": "code",
   "execution_count": 35,
   "metadata": {},
   "outputs": [],
   "source": [
    "def reproduce_offspring(pop1_fathers_with_migration,pop1_mothers_with_migration,pop2_fathers_with_migration,pop2_mothers_with_migration): \n",
    "    #  reproduce pop1's child \n",
    "    pop1_child = np.zeros_like(pop1_fathers_with_migration)  \n",
    "    # for every child's every variable, choose a value from their own father or mother randomly\n",
    "    for i in range(n):  \n",
    "        for j in range(m+1):   \n",
    "            choice_index = np.random.choice([0, 1])  \n",
    "            if choice_index == 0:  \n",
    "                pop1_child[i, j] = pop1_fathers_with_migration[i, j]  \n",
    "            else:  \n",
    "                pop1_child[i, j] = pop1_mothers_with_migration[i, j]  \n",
    "\n",
    "    #  reproduce pop2's child \n",
    "    pop2_child = np.zeros_like(pop2_fathers_with_migration)  \n",
    "    # for every child's every variable, choose a value from their own father or mother randomly\n",
    "    for i in range(n):  \n",
    "        for j in range(m+1):   \n",
    "            choice_index = np.random.choice([0, 1])  \n",
    "            if choice_index == 0:  \n",
    "                pop2_child[i, j] = pop2_fathers_with_migration[i, j]  \n",
    "            else:  \n",
    "                pop2_child[i, j] = pop2_mothers_with_migration[i, j]  \n",
    "                \n",
    "    return pop1_child,pop2_child\n",
    "\n",
    "pop1_child,pop2_child = reproduce_offspring(pop1_fathers_with_migration,pop1_mothers_with_migration,pop2_fathers_with_migration,pop2_mothers_with_migration)"
   ]
  },
  {
   "cell_type": "markdown",
   "metadata": {},
   "source": [
    "#  ------------------------------------------------------------------------------------------------------------"
   ]
  },
  {
   "cell_type": "markdown",
   "metadata": {},
   "source": [
    "# Final step：Integrate all the code, reproduce G generations, get the final generation of the two populations"
   ]
  },
  {
   "cell_type": "code",
   "execution_count": 36,
   "metadata": {},
   "outputs": [],
   "source": [
    "# simulate the first generation with random sex variable\n",
    "pop1_g0withsex,pop2_g0withsex=first_generation_with_sex_variable()"
   ]
  },
  {
   "cell_type": "code",
   "execution_count": 37,
   "metadata": {},
   "outputs": [
    {
     "name": "stdout",
     "output_type": "stream",
     "text": [
      "the last generation is 10\n",
      "the last generation of pop1 is:\n",
      "[['1' '0' '1' ... '1' '1' 'F']\n",
      " ['0' '1' '0' ... '1' '1' 'F']\n",
      " ['0' '1' '1' ... '0' '1' 'F']\n",
      " ...\n",
      " ['1' '0' '0' ... '1' '1' 'F']\n",
      " ['0' '1' '0' ... '1' '1' 'M']\n",
      " ['0' '1' '0' ... '1' '1' 'F']]\n",
      "the last generation of pop2 is:\n",
      "[['1' '1' '0' ... '1' '1' 'M']\n",
      " ['1' '0' '0' ... '1' '1' 'M']\n",
      " ['1' '1' '1' ... '1' '1' 'M']\n",
      " ...\n",
      " ['0' '1' '1' ... '0' '1' 'M']\n",
      " ['1' '1' '0' ... '1' '1' 'F']\n",
      " ['1' '1' '0' ... '1' '1' 'F']]\n"
     ]
    }
   ],
   "source": [
    "#use for loop to repeat reproducing\n",
    "for g in range(G):\n",
    "    # divide into male group and female group in 2 populations¶\n",
    "    pop1_g0_male,pop1_g0_female,pop2_g0_male,pop2_g0_female=divide_parents_into_4groups(pop1_g0withsex, pop2_g0withsex)\n",
    "    \n",
    "    # simulate the migration & make new parents couples\n",
    "    pop1_fathers_with_migration,pop1_mothers_with_migration,pop2_fathers_with_migration,pop2_mothers_with_migration=migration_and_create_parents_combination(pop1_g0_male,pop1_g0_female,pop2_g0_male,pop2_g0_female)\n",
    "    \n",
    "    # reproduce offspring\n",
    "    pop1_child,pop2_child = reproduce_offspring(pop1_fathers_with_migration,pop1_mothers_with_migration,pop2_fathers_with_migration,pop2_mothers_with_migration)\n",
    "\n",
    "    # update children to be new parents\n",
    "    pop1_g0withsex = pop1_child\n",
    "    pop2_g0withsex = pop2_child\n",
    "    \n",
    "    # print the last generation's result\n",
    "    if g==G-1:\n",
    "        print(\"the last generation is\",g+1)\n",
    "        print(\"the last generation of pop1 is:\")\n",
    "        print(pop1_child)\n",
    "        print(\"the last generation of pop2 is:\")\n",
    "        print(pop2_child)"
   ]
  },
  {
   "cell_type": "code",
   "execution_count": null,
   "metadata": {},
   "outputs": [],
   "source": []
  }
 ],
 "metadata": {
  "kernelspec": {
   "display_name": "Python 3",
   "language": "python",
   "name": "python3"
  },
  "language_info": {
   "codemirror_mode": {
    "name": "ipython",
    "version": 3
   },
   "file_extension": ".py",
   "mimetype": "text/x-python",
   "name": "python",
   "nbconvert_exporter": "python",
   "pygments_lexer": "ipython3",
   "version": "3.8.5"
  }
 },
 "nbformat": 4,
 "nbformat_minor": 4
}
